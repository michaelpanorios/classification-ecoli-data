{
  "nbformat": 4,
  "nbformat_minor": 0,
  "metadata": {
    "colab": {
      "name": "classifying-ecoli-dataset.ipynb",
      "provenance": [],
      "collapsed_sections": []
    },
    "kernelspec": {
      "name": "python3",
      "display_name": "Python 3"
    },
    "language_info": {
      "name": "python"
    }
  },
  "cells": [
    {
      "cell_type": "code",
      "metadata": {
        "id": "1y5MPpdTaSj5",
        "colab": {
          "base_uri": "https://localhost:8080/"
        },
        "outputId": "6ac60766-4913-4952-b0e1-81f52f314e29"
      },
      "source": [
        "#Load and summarize the dataset\n",
        "from pandas import read_csv\n",
        "from pandas import set_option\n",
        "from collections import Counter\n",
        "#Define the dataset location\n",
        "filename = 'sample_data/ecoli.csv'\n",
        "#Load the csv file as a data frame\n",
        "dataframe = read_csv(filename, header=None)\n",
        "#Summarize the shape of the dataset\n",
        "print(dataframe.shape)\n",
        "#Describe the dataset\n",
        "set_option('precision', 3)\n",
        "print(dataframe.describe())\n",
        "#Summarize the class distribution\n",
        "target = dataframe.values[:,-1]\n",
        "counter = Counter(target)\n",
        "for k,v in counter.items():\n",
        "\tper = v / len(target) * 100\n",
        "\tprint('Class=%s, Count=%d, Percentage=%.3f%%' % (k, v, per))"
      ],
      "execution_count": null,
      "outputs": [
        {
          "output_type": "stream",
          "text": [
            "(336, 8)\n",
            "             0        1        2        3        4        5        6\n",
            "count  336.000  336.000  336.000  336.000  336.000  336.000  336.000\n",
            "mean     0.500    0.500    0.495    0.501    0.500    0.500    0.500\n",
            "std      0.195    0.148    0.088    0.027    0.122    0.216    0.209\n",
            "min      0.000    0.160    0.480    0.500    0.000    0.030    0.000\n",
            "25%      0.340    0.400    0.480    0.500    0.420    0.330    0.350\n",
            "50%      0.500    0.470    0.480    0.500    0.495    0.455    0.430\n",
            "75%      0.662    0.570    0.480    0.500    0.570    0.710    0.710\n",
            "max      0.890    1.000    1.000    1.000    0.880    1.000    0.990\n",
            "Class=cp, Count=143, Percentage=42.560%\n",
            "Class=im, Count=77, Percentage=22.917%\n",
            "Class=imS, Count=2, Percentage=0.595%\n",
            "Class=imL, Count=2, Percentage=0.595%\n",
            "Class=imU, Count=35, Percentage=10.417%\n",
            "Class=om, Count=20, Percentage=5.952%\n",
            "Class=omL, Count=5, Percentage=1.488%\n",
            "Class=pp, Count=52, Percentage=15.476%\n"
          ],
          "name": "stdout"
        }
      ]
    },
    {
      "cell_type": "code",
      "metadata": {
        "colab": {
          "base_uri": "https://localhost:8080/",
          "height": 281
        },
        "id": "i1149Jpi81VZ",
        "outputId": "f08081fa-5352-480c-c31e-3a9d72d6131f"
      },
      "source": [
        "#Creating histograms of all variables\n",
        "from pandas import read_csv\n",
        "from matplotlib import pyplot\n",
        "#Define the dataset location\n",
        "filename = 'sample_data/ecoli.csv'\n",
        "#Load the csv file as a data frame\n",
        "df = read_csv(filename, header=None)\n",
        "#Create a histogram plot of each variable\n",
        "df.hist(bins=25)\n",
        "#Show the plot\n",
        "pyplot.show()"
      ],
      "execution_count": null,
      "outputs": [
        {
          "output_type": "display_data",
          "data": {
            "image/png": "[encoded data removed]",
            "text/plain": [
              "<Figure size 432x288 with 9 Axes>"
            ]
          },
          "metadata": {
            "tags": [],
            "needs_background": "light"
          }
        }
      ]
    },
    {
      "cell_type": "code",
      "metadata": {
        "colab": {
          "base_uri": "https://localhost:8080/"
        },
        "id": "G3mmTIx-9A8w",
        "outputId": "b9b70b07-2823-46cf-eca9-c1caea6a39e4"
      },
      "source": [
        "from collections import Counter\n",
        "from numpy import mean\n",
        "from numpy import std\n",
        "from pandas import read_csv\n",
        "from sklearn.preprocessing import LabelEncoder\n",
        "from sklearn.model_selection import cross_val_score\n",
        "from sklearn.model_selection import RepeatedStratifiedKFold\n",
        "from sklearn.dummy import DummyClassifier\n",
        "# import warnings\n",
        "# warnings.filterwarnings(\"ignore\")\n",
        " \n",
        "#Load the dataset\n",
        "def load_dataset(full_path):\n",
        "\t#Load the dataset as a numpy array\n",
        "\tdata = read_csv(full_path, header=None)\n",
        "\t#Retrieve numpy array\n",
        "\tdata = data.values\n",
        "\t#Split into input and output elements\n",
        "\tX, y = data[:, :-1], data[:, -1]\n",
        "\t#Label encode the target variable to have the classes 0 and 1\n",
        "\ty = LabelEncoder().fit_transform(y)\n",
        "\treturn X, y\n",
        " \n",
        "#Evaluate a model\n",
        "def evaluate_model(X, y, model):\n",
        "\t#Define evaluation procedure\n",
        "\tcv = RepeatedStratifiedKFold(n_splits=5, n_repeats=3, random_state=1)\n",
        "\t#Evaluate model\n",
        "\tscores = cross_val_score(model, X, y, scoring='accuracy', cv=cv, n_jobs=-1)\n",
        "\treturn scores\n",
        " \n",
        "#Define the location of the dataset\n",
        "full_path = 'sample_data/ecoli.csv'\n",
        "#Load the dataset\n",
        "X, y = load_dataset(full_path)\n",
        "#Summarize the loaded dataset\n",
        "print(X.shape, y.shape, Counter(y))\n",
        "#Define the reference model\n",
        "model = DummyClassifier(strategy='most_frequent')\n",
        "#Evaluate the model\n",
        "scores = evaluate_model(X, y, model)\n",
        "#Summarize performance\n",
        "print('Mean Accuracy: %.3f (%.3f)' % (mean(scores), std(scores)))"
      ],
      "execution_count": null,
      "outputs": [
        {
          "output_type": "stream",
          "text": [
            "(336, 7) (336,) Counter({0: 143, 1: 77, 7: 52, 4: 35, 5: 20, 6: 5, 3: 2, 2: 2})\n",
            "Mean Accuracy: 0.426 (0.007)\n"
          ],
          "name": "stdout"
        }
      ]
    },
    {
      "cell_type": "code",
      "metadata": {
        "colab": {
          "base_uri": "https://localhost:8080/"
        },
        "id": "NO3FJrSz9Ssx",
        "outputId": "b38a0c31-7bf9-409f-e789-8a05e6f1d63d"
      },
      "source": [
        "#Baseline model and test harness for the ecoli dataset\n",
        "from collections import Counter\n",
        "from numpy import mean\n",
        "from numpy import std\n",
        "from pandas import read_csv\n",
        "from sklearn.preprocessing import LabelEncoder\n",
        "from sklearn.model_selection import cross_val_score\n",
        "from sklearn.model_selection import RepeatedStratifiedKFold\n",
        "from sklearn.dummy import DummyClassifier\n",
        " \n",
        "#Load the dataset\n",
        "def load_dataset(full_path):\n",
        "\t#Load the dataset as a numpy array\n",
        "\tdf = read_csv(full_path, header=None)\n",
        "\t#Remove rows for the minority classes\n",
        "\tdf = df[df[7] != 'imS']\n",
        "\tdf = df[df[7] != 'imL']\n",
        "\t#Retrieve numpy array\n",
        "\tdata = df.values\n",
        "\t#Split into input and output elements\n",
        "\tX, y = data[:, :-1], data[:, -1]\n",
        "\t#Label encode the target variable to have the classes 0 and 1\n",
        "\ty = LabelEncoder().fit_transform(y)\n",
        "\treturn X, y\n",
        " \n",
        "#Evaluate a model\n",
        "def evaluate_model(X, y, model):\n",
        "\t#Define evaluation procedure\n",
        "\tcv = RepeatedStratifiedKFold(n_splits=5, n_repeats=3, random_state=1)\n",
        "\t#Evaluate model\n",
        "\tscores = cross_val_score(model, X, y, scoring='accuracy', cv=cv, n_jobs=-1)\n",
        "\treturn scores\n",
        " \n",
        "#Define the location of the dataset\n",
        "full_path = 'sample_data/ecoli.csv'\n",
        "#Load the dataset\n",
        "X, y = load_dataset(full_path)\n",
        "#Summarize the loaded dataset\n",
        "print(X.shape, y.shape, Counter(y))\n",
        "#Define the reference model\n",
        "model = DummyClassifier(strategy='most_frequent')\n",
        "#Evaluate the model\n",
        "scores = evaluate_model(X, y, model)\n",
        "#Summarize performance\n",
        "print('Mean Accuracy: %.3f (%.3f)' % (mean(scores), std(scores)))"
      ],
      "execution_count": null,
      "outputs": [
        {
          "output_type": "stream",
          "text": [
            "(332, 7) (332,) Counter({0: 143, 1: 77, 5: 52, 2: 35, 3: 20, 4: 5})\n",
            "Mean Accuracy: 0.431 (0.006)\n"
          ],
          "name": "stdout"
        }
      ]
    },
    {
      "cell_type": "code",
      "metadata": {
        "colab": {
          "base_uri": "https://localhost:8080/",
          "height": 350
        },
        "id": "ycBH7RwZ9nMl",
        "outputId": "265a662e-e6f8-4cd1-9058-b324fab4be8a"
      },
      "source": [
        "from numpy import mean\n",
        "from numpy import std\n",
        "from pandas import read_csv\n",
        "from matplotlib import pyplot\n",
        "from sklearn.preprocessing import LabelEncoder\n",
        "from sklearn.model_selection import cross_val_score\n",
        "from sklearn.model_selection import RepeatedStratifiedKFold\n",
        "from sklearn.svm import LinearSVC\n",
        "from sklearn.discriminant_analysis import LinearDiscriminantAnalysis\n",
        "from sklearn.ensemble import RandomForestClassifier\n",
        "from sklearn.ensemble import ExtraTreesClassifier\n",
        "from sklearn.ensemble import BaggingClassifier\n",
        " \n",
        "#Load the dataset\n",
        "def load_dataset(full_path):\n",
        "\t#Load the dataset as a numpy array\n",
        "\tdf = read_csv(full_path, header=None)\n",
        "\t#Remove rows for the minority classes\n",
        "\tdf = df[df[7] != 'imS']\n",
        "\tdf = df[df[7] != 'imL']\n",
        "\t#Retrieve numpy array\n",
        "\tdata = df.values\n",
        "\t#Split into input and output elements\n",
        "\tX, y = data[:, :-1], data[:, -1]\n",
        "\t#Label encode the target variable\n",
        "\ty = LabelEncoder().fit_transform(y)\n",
        "\treturn X, y\n",
        " \n",
        "#Evaluate a model\n",
        "def evaluate_model(X, y, model):\n",
        "\t#Define evaluation procedure\n",
        "\tcv = RepeatedStratifiedKFold(n_splits=5, n_repeats=3, random_state=1)\n",
        "\t#Evaluate model\n",
        "\tscores = cross_val_score(model, X, y, scoring='accuracy', cv=cv, n_jobs=-1)\n",
        "\treturn scores\n",
        " \n",
        "#Define models to test\n",
        "def get_models():\n",
        "\tmodels, names = list(), list()\n",
        "\t# LDA\n",
        "\tmodels.append(LinearDiscriminantAnalysis())\n",
        "\tnames.append('Linear Discriminant Analysis')\n",
        "\t# SVM\n",
        "\tmodels.append(LinearSVC())\n",
        "\tnames.append('Linear SVC')\n",
        "\t# Bagging\n",
        "\tmodels.append(BaggingClassifier(n_estimators=1000))\n",
        "\tnames.append('Bagging Classifier')\n",
        "\t# RF\n",
        "\tmodels.append(RandomForestClassifier(n_estimators=1000))\n",
        "\tnames.append('Random Forest')\n",
        "\t# ET\n",
        "\tmodels.append(ExtraTreesClassifier(n_estimators=1000))\n",
        "\tnames.append('Extra Trees Classifier')\n",
        "\treturn models, names\n",
        " \n",
        "# Define the location of the dataset\n",
        "full_path = 'sample_data/ecoli.csv'\n",
        "# Load the dataset\n",
        "X, y = load_dataset(full_path)\n",
        "# Define models\n",
        "models, names = get_models()\n",
        "results = list()\n",
        "# Evaluate each model\n",
        "for i in range(len(models)):\n",
        "\t# Evaluate the model and store results\n",
        "\tscores = evaluate_model(X, y, models[i])\n",
        "\tresults.append(scores)\n",
        "\t# Summarize performance\n",
        "\tprint('>%s %.3f (%.3f)' % (names[i], mean(scores), std(scores)))\n",
        "# Plotting the results\n",
        "pyplot.boxplot(results, labels=names, showmeans=True)\n",
        "pyplot.show()"
      ],
      "execution_count": null,
      "outputs": [
        {
          "output_type": "stream",
          "text": [
            ">Linear Discriminant Analysis 0.881 (0.041)\n",
            ">Linear SVC 0.882 (0.040)\n",
            ">Bagging Classifier 0.852 (0.036)\n",
            ">Random Forest 0.886 (0.025)\n",
            ">Extra Trees Classifier 0.878 (0.037)\n"
          ],
          "name": "stdout"
        },
        {
          "output_type": "display_data",
          "data": {
            "image/png": "[encoded data removed]",
            "text/plain": [
              "<Figure size 432x288 with 1 Axes>"
            ]
          },
          "metadata": {
            "tags": [],
            "needs_background": "light"
          }
        }
      ]
    },
    {
      "cell_type": "code",
      "metadata": {
        "colab": {
          "base_uri": "https://localhost:8080/",
          "height": 350
        },
        "id": "SIQlbvRF_Zfj",
        "outputId": "33991e4b-c178-4fea-bbaf-a405428865d2"
      },
      "source": [
        "#Spot check smote with machine learning algorithms on the ecoli dataset\n",
        "from numpy import mean\n",
        "from numpy import std\n",
        "from pandas import read_csv\n",
        "from matplotlib import pyplot\n",
        "from sklearn.preprocessing import LabelEncoder\n",
        "from sklearn.model_selection import cross_val_score\n",
        "from sklearn.model_selection import RepeatedStratifiedKFold\n",
        "from sklearn.svm import LinearSVC\n",
        "from sklearn.discriminant_analysis import LinearDiscriminantAnalysis\n",
        "from sklearn.neighbors import KNeighborsClassifier\n",
        "from sklearn.gaussian_process import GaussianProcessClassifier\n",
        "from sklearn.linear_model import LogisticRegression\n",
        "from imblearn.pipeline import Pipeline\n",
        "from imblearn.over_sampling import SMOTE\n",
        " \n",
        "#Load the dataset\n",
        "def load_dataset(full_path):\n",
        "\t#Load the dataset as a numpy array\n",
        "\tdf = read_csv(full_path, header=None)\n",
        "\t#Remove rows for the minority classes\n",
        "\tdf = df[df[7] != 'imS']\n",
        "\tdf = df[df[7] != 'imL']\n",
        "\t#Retrieve numpy array\n",
        "\tdata = df.values\n",
        "\t#Split into input and output elements\n",
        "\tX, y = data[:, :-1], data[:, -1]\n",
        "\t#Label encode the target variable\n",
        "\ty = LabelEncoder().fit_transform(y)\n",
        "\treturn X, y\n",
        " \n",
        "#Evaluate a model\n",
        "def evaluate_model(X, y, model):\n",
        "\t#Define evaluation procedure\n",
        "\tcv = RepeatedStratifiedKFold(n_splits=5, n_repeats=3, random_state=1)\n",
        "\t#Evaluate model\n",
        "\tscores = cross_val_score(model, X, y, scoring='accuracy', cv=cv, n_jobs=-1)\n",
        "\treturn scores\n",
        " \n",
        "#Define models to test\n",
        "def get_models():\n",
        "\tmodels, names = list(), list()\n",
        "\t# LR\n",
        "\tmodels.append(LogisticRegression(solver='lbfgs', multi_class='multinomial'))\n",
        "\tnames.append('Logistic Regression')\n",
        "\t# LDA\n",
        "\tmodels.append(LinearDiscriminantAnalysis())\n",
        "\tnames.append('Linear Discriminant Analysis')\n",
        "\t# SVM\n",
        "\tmodels.append(LinearSVC())\n",
        "\tnames.append('Linear SVC')\n",
        "\t# KNN\n",
        "\tmodels.append(KNeighborsClassifier(n_neighbors=3))\n",
        "\tnames.append('KNN Classifier')\n",
        "\t# GP\n",
        "\tmodels.append(GaussianProcessClassifier())\n",
        "\tnames.append('Gaussian Process Classifier')\n",
        "\treturn models, names\n",
        " \n",
        "#Define the location of the dataset\n",
        "full_path = 'sample_data/ecoli.csv'\n",
        "#Load the dataset\n",
        "X, y = load_dataset(full_path)\n",
        "#Define models\n",
        "models, names = get_models()\n",
        "results = list()\n",
        "#Evaluate each model\n",
        "for i in range(len(models)):\n",
        "\t#Create pipeline\n",
        "\tsteps = [('o', SMOTE(k_neighbors=2)), ('m', models[i])]\n",
        "\tpipeline = Pipeline(steps=steps)\n",
        "\t#Evaluate the model and store results\n",
        "\tscores = evaluate_model(X, y, pipeline)\n",
        "\tresults.append(scores)\n",
        "\t#Summarize performance\n",
        "\tprint('>%s %.3f (%.3f)' % (names[i], mean(scores), std(scores)))\n",
        "#Plot the results\n",
        "pyplot.boxplot(results, labels=names, showmeans=True)\n",
        "pyplot.show()"
      ],
      "execution_count": null,
      "outputs": [
        {
          "output_type": "stream",
          "text": [
            ">Logistic Regression 0.871 (0.035)\n",
            ">Linear Discriminant Analysis 0.879 (0.041)\n",
            ">Linear SVC 0.884 (0.039)\n",
            ">KNN Classifier 0.836 (0.044)\n",
            ">Gaussian Process Classifier 0.877 (0.038)\n"
          ],
          "name": "stdout"
        },
        {
          "output_type": "display_data",
          "data": {
            "image/png": "[encoded data removed]",
            "text/plain": [
              "<Figure size 432x288 with 1 Axes>"
            ]
          },
          "metadata": {
            "tags": [],
            "needs_background": "light"
          }
        }
      ]
    },
    {
      "cell_type": "code",
      "metadata": {
        "colab": {
          "base_uri": "https://localhost:8080/"
        },
        "id": "NbdRv4N1A4BE",
        "outputId": "84527d81-87dc-473a-c6f3-12c9d67628a1"
      },
      "source": [
        "#Fit a model and make predictions for the on the ecoli dataset\n",
        "from pandas import read_csv\n",
        "from sklearn.preprocessing import LabelEncoder\n",
        "from sklearn.ensemble import RandomForestClassifier\n",
        " \n",
        "#Load the dataset\n",
        "def load_dataset(full_path):\n",
        "\t#Load the dataset as a numpy array\n",
        "\tdf = read_csv(full_path, header=None)\n",
        "\t#Remove rows for the minority classes\n",
        "\tdf = df[df[7] != 'imS']\n",
        "\tdf = df[df[7] != 'imL']\n",
        "\t#Retrieve numpy array\n",
        "\tdata = df.values\n",
        "\t#Split into input and output elements\n",
        "\tX, y = data[:, :-1], data[:, -1]\n",
        "\t#Label encode the target variable\n",
        "\tle = LabelEncoder()\n",
        "\ty = le.fit_transform(y)\n",
        "\treturn X, y, le\n",
        " \n",
        "#Define the location of the dataset\n",
        "full_path = 'sample_data/ecoli.csv'\n",
        "#Load the dataset\n",
        "X, y, le = load_dataset(full_path)\n",
        "#Define model to evaluate\n",
        "model = RandomForestClassifier(n_estimators=1000)\n",
        "#Fit the model\n",
        "model.fit(X, y)\n",
        "#Known class \"cp\"\n",
        "row = [0.49,0.29,0.48,0.50,0.56,0.24,0.35]\n",
        "yhat = model.predict([row])\n",
        "label = le.inverse_transform(yhat)[0]\n",
        "print('>Predicted=%s (expected cp)' % (label))\n",
        "#Known class \"im\"\n",
        "row = [0.06,0.61,0.48,0.50,0.49,0.92,0.37]\n",
        "yhat = model.predict([row])\n",
        "label = le.inverse_transform(yhat)[0]\n",
        "print('>Predicted=%s (expected im)' % (label))\n",
        "#Known class \"imU\"\n",
        "row = [0.72,0.42,0.48,0.50,0.65,0.77,0.79]\n",
        "yhat = model.predict([row])\n",
        "label = le.inverse_transform(yhat)[0]\n",
        "print('>Predicted=%s (expected imU)' % (label))\n",
        "#Known class \"om\"\n",
        "row = [0.78,0.68,0.48,0.50,0.83,0.40,0.29]\n",
        "yhat = model.predict([row])\n",
        "label = le.inverse_transform(yhat)[0]\n",
        "print('>Predicted=%s (expected om)' % (label))\n",
        "#Known class \"omL\"\n",
        "row = [0.77,0.57,1.00,0.50,0.37,0.54,0.0]\n",
        "yhat = model.predict([row])\n",
        "label = le.inverse_transform(yhat)[0]\n",
        "print('>Predicted=%s (expected omL)' % (label))\n",
        "#Known class \"pp\"\n",
        "row = [0.74,0.49,0.48,0.50,0.42,0.54,0.36]\n",
        "yhat = model.predict([row])\n",
        "label = le.inverse_transform(yhat)[0]\n",
        "print('>Predicted=%s (expected pp)' % (label))"
      ],
      "execution_count": null,
      "outputs": [
        {
          "output_type": "stream",
          "text": [
            ">Predicted=cp (expected cp)\n",
            ">Predicted=im (expected im)\n",
            ">Predicted=imU (expected imU)\n",
            ">Predicted=om (expected om)\n",
            ">Predicted=omL (expected omL)\n",
            ">Predicted=pp (expected pp)\n"
          ],
          "name": "stdout"
        }
      ]
    }
  ]
}